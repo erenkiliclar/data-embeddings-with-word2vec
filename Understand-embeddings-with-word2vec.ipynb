{
 "cells": [
  {
   "cell_type": "markdown",
   "metadata": {},
   "source": [
    "# Understand embeddings with Word2Vec"
   ]
  },
  {
   "cell_type": "markdown",
   "metadata": {},
   "source": [
    "### Exercise objectives:\n",
    "- Convert 🔠 words to 🔢 vector representations thanks to embeddings\n",
    "- Discover the powerful Word2Vec algorithm\n",
    "\n",
    "<hr>\n",
    "\n",
    "_Embeddings_ are representations of words using vectors. These embeddings can be learned within a Neural Network. But it can take time to converge. Another option is to learn them as a first step. Then, use them directly to feed the word representations into a Recurrent Neural Network. "
   ]
  },
  {
   "cell_type": "markdown",
   "metadata": {},
   "source": [
    "▶️ Run this cell and make sure the version of 📚 [Gensim - Word2Vec](https://radimrehurek.com/gensim/auto_examples/index.html) you are using is ≥ 4.0!"
   ]
  },
  {
   "cell_type": "code",
   "execution_count": 1,
   "metadata": {},
   "outputs": [
    {
     "name": "stdout",
     "output_type": "stream",
     "text": [
      "gensim==4.2.0\r\n"
     ]
    }
   ],
   "source": [
    "!pip freeze | grep gensim"
   ]
  },
  {
   "cell_type": "code",
   "execution_count": 2,
   "metadata": {},
   "outputs": [
    {
     "name": "stdout",
     "output_type": "stream",
     "text": [
      "tensorflow==2.10.0\r\n",
      "tensorflow-datasets==4.6.0\r\n",
      "tensorflow-estimator==2.10.0\r\n",
      "tensorflow-io-gcs-filesystem==0.27.0\r\n",
      "tensorflow-metadata==1.10.0\r\n"
     ]
    }
   ],
   "source": [
    "!pip freeze | grep tensorflow"
   ]
  },
  {
   "cell_type": "markdown",
   "metadata": {},
   "source": [
    "# The data"
   ]
  },
  {
   "cell_type": "markdown",
   "metadata": {},
   "source": [
    "Keras provides many datasets, among which is the IMDB dataset 🎬:\n",
    "- It is comprised of sentences that are ***movie reviews***. \n",
    "- Each of these reviews is related to a score given by the reviewer.\n",
    "\n",
    "❓ **Question** ❓ First of all, let's load the data. You don't have to understand what is going on in the function, it does not matter here.\n",
    "\n",
    "⚠️ **Warning** ⚠️ The `load_data` function has a `percentage_of_sentences` argument. Depending on your computer, there are chances that too many sentences will make your compute slow down, or even freeze - your RAM can overflow. For that reason, **you should start with 10% of the sentences** and see if your computer can handle it. Otherwise, rerun with a lower number.  \n",
    "\n",
    "⚠️ **DISCLAIMER** ⚠️ **No need to play _who has the biggest_ (RAM) !** The idea is to get to run your models quickly to prototype. Even in real life, it is recommended that you start with a subset of your data to loop and debug quickly. So increase the number only if you are into getting the best accuracy. "
   ]
  },
  {
   "cell_type": "code",
   "execution_count": 3,
   "metadata": {},
   "outputs": [
    {
     "name": "stderr",
     "output_type": "stream",
     "text": [
      "2023-05-29 10:19:13.624122: I tensorflow/core/platform/cpu_feature_guard.cc:193] This TensorFlow binary is optimized with oneAPI Deep Neural Network Library (oneDNN) to use the following CPU instructions in performance-critical operations:  AVX2 AVX512F AVX512_VNNI FMA\n",
      "To enable them in other operations, rebuild TensorFlow with the appropriate compiler flags.\n",
      "2023-05-29 10:19:14.183649: I tensorflow/core/util/util.cc:169] oneDNN custom operations are on. You may see slightly different numerical results due to floating-point round-off errors from different computation orders. To turn them off, set the environment variable `TF_ENABLE_ONEDNN_OPTS=0`.\n",
      "2023-05-29 10:19:14.306778: W tensorflow/stream_executor/platform/default/dso_loader.cc:64] Could not load dynamic library 'libcudart.so.11.0'; dlerror: libcudart.so.11.0: cannot open shared object file: No such file or directory\n",
      "2023-05-29 10:19:14.306798: I tensorflow/stream_executor/cuda/cudart_stub.cc:29] Ignore above cudart dlerror if you do not have a GPU set up on your machine.\n",
      "2023-05-29 10:19:14.387669: E tensorflow/stream_executor/cuda/cuda_blas.cc:2981] Unable to register cuBLAS factory: Attempting to register factory for plugin cuBLAS when one has already been registered\n",
      "2023-05-29 10:19:16.071100: W tensorflow/stream_executor/platform/default/dso_loader.cc:64] Could not load dynamic library 'libnvinfer.so.7'; dlerror: libnvinfer.so.7: cannot open shared object file: No such file or directory\n",
      "2023-05-29 10:19:16.071234: W tensorflow/stream_executor/platform/default/dso_loader.cc:64] Could not load dynamic library 'libnvinfer_plugin.so.7'; dlerror: libnvinfer_plugin.so.7: cannot open shared object file: No such file or directory\n",
      "2023-05-29 10:19:16.071242: W tensorflow/compiler/tf2tensorrt/utils/py_utils.cc:38] TF-TRT Warning: Cannot dlopen some TensorRT libraries. If you would like to use Nvidia GPU with TensorRT, please make sure the missing libraries mentioned above are installed properly.\n",
      "2023-05-29 10:19:22.126301: I tensorflow/stream_executor/cuda/cuda_gpu_executor.cc:966] could not open file to read NUMA node: /sys/bus/pci/devices/0000:06:00.0/numa_node\n",
      "Your kernel may have been built without NUMA support.\n",
      "2023-05-29 10:19:22.126604: W tensorflow/stream_executor/platform/default/dso_loader.cc:64] Could not load dynamic library 'libcudart.so.11.0'; dlerror: libcudart.so.11.0: cannot open shared object file: No such file or directory\n",
      "2023-05-29 10:19:22.126721: W tensorflow/stream_executor/platform/default/dso_loader.cc:64] Could not load dynamic library 'libcublas.so.11'; dlerror: libcublas.so.11: cannot open shared object file: No such file or directory\n",
      "2023-05-29 10:19:22.126818: W tensorflow/stream_executor/platform/default/dso_loader.cc:64] Could not load dynamic library 'libcublasLt.so.11'; dlerror: libcublasLt.so.11: cannot open shared object file: No such file or directory\n",
      "2023-05-29 10:19:22.126909: W tensorflow/stream_executor/platform/default/dso_loader.cc:64] Could not load dynamic library 'libcufft.so.10'; dlerror: libcufft.so.10: cannot open shared object file: No such file or directory\n",
      "2023-05-29 10:19:22.127003: W tensorflow/stream_executor/platform/default/dso_loader.cc:64] Could not load dynamic library 'libcurand.so.10'; dlerror: libcurand.so.10: cannot open shared object file: No such file or directory\n",
      "2023-05-29 10:19:22.127093: W tensorflow/stream_executor/platform/default/dso_loader.cc:64] Could not load dynamic library 'libcusolver.so.11'; dlerror: libcusolver.so.11: cannot open shared object file: No such file or directory\n",
      "2023-05-29 10:19:22.127182: W tensorflow/stream_executor/platform/default/dso_loader.cc:64] Could not load dynamic library 'libcusparse.so.11'; dlerror: libcusparse.so.11: cannot open shared object file: No such file or directory\n",
      "2023-05-29 10:19:22.127269: W tensorflow/stream_executor/platform/default/dso_loader.cc:64] Could not load dynamic library 'libcudnn.so.8'; dlerror: libcudnn.so.8: cannot open shared object file: No such file or directory\n",
      "2023-05-29 10:19:22.127322: W tensorflow/core/common_runtime/gpu/gpu_device.cc:1934] Cannot dlopen some GPU libraries. Please make sure the missing libraries mentioned above are installed properly if you would like to use GPU. Follow the guide at https://www.tensorflow.org/install/gpu for how to download and setup the required libraries for your platform.\n",
      "Skipping registering GPU devices...\n",
      "2023-05-29 10:19:22.134092: I tensorflow/core/platform/cpu_feature_guard.cc:193] This TensorFlow binary is optimized with oneAPI Deep Neural Network Library (oneDNN) to use the following CPU instructions in performance-critical operations:  AVX2 AVX512F AVX512_VNNI FMA\n",
      "To enable them in other operations, rebuild TensorFlow with the appropriate compiler flags.\n"
     ]
    }
   ],
   "source": [
    "###########################################\n",
    "### Just run this cell to load the data ###\n",
    "###########################################\n",
    "\n",
    "import tensorflow_datasets as tfds\n",
    "from tensorflow.keras.preprocessing.text import text_to_word_sequence\n",
    "\n",
    "def load_data(percentage_of_sentences=None):\n",
    "    train_data, test_data = tfds.load(name=\"imdb_reviews\", split=[\"train\", \"test\"], batch_size=-1, as_supervised=True)\n",
    "\n",
    "    train_sentences, y_train = tfds.as_numpy(train_data)\n",
    "    test_sentences, y_test = tfds.as_numpy(test_data)\n",
    "    \n",
    "    # Take only a given percentage of the entire data\n",
    "    if percentage_of_sentences is not None:\n",
    "        assert(percentage_of_sentences> 0 and percentage_of_sentences<=100)\n",
    "        \n",
    "        len_train = int(percentage_of_sentences/100*len(train_sentences))\n",
    "        train_sentences, y_train = train_sentences[:len_train], y_train[:len_train]\n",
    "  \n",
    "        len_test = int(percentage_of_sentences/100*len(test_sentences))\n",
    "        test_sentences, y_test = test_sentences[:len_test], y_test[:len_test]\n",
    "    \n",
    "    X_train = [text_to_word_sequence(_.decode(\"utf-8\")) for _ in train_sentences]\n",
    "    X_test = [text_to_word_sequence(_.decode(\"utf-8\")) for _ in test_sentences]\n",
    "    \n",
    "    return X_train, y_train, X_test, y_test\n",
    "\n",
    "X_train, y_train, X_test, y_test = load_data(percentage_of_sentences=10)"
   ]
  },
  {
   "cell_type": "markdown",
   "metadata": {},
   "source": [
    "<b><u>Embeddings in the previous challenge</u></b>:\n",
    "\n",
    "In the previous exercise, we jointly learned a representation for the words, and fed this representation to a RNN, as shown down below 👇: \n",
    "\n",
    "<img src=\"layers_embedding.png\" width=\"400px\" />\n",
    "\n",
    "However, this increases the number of parameters to learn, which slows down and increases the difficulty of convergence!"
   ]
  },
  {
   "cell_type": "markdown",
   "metadata": {},
   "source": [
    "<b><u>Embeddings in the current challenge</u></b>:\n",
    "\n",
    "For this reason, we will separate the steps of learning the word representation and feeding it into a RNN. As shown here: \n",
    "\n",
    "<img src=\"word2vec_representation.png\" width=\"400px\" />\n",
    "\n",
    "We will learn the embedding with Word2Vec.\n",
    "\n",
    "The drawback is indeed that the learned embeddings are not _specifically_ designed for our task. However, learning them independently of the task at hand (sentiment analysis) has some advantages: \n",
    "- it is very fast to do in general (with Word2Vec)\n",
    "- the representation learned by Word2Vec is still meaningful \n",
    "- the convergence of the RNN alone will be easier and faster\n",
    "\n",
    "So let's learn an embedding with Word2Vec and see how meaningful it is!"
   ]
  },
  {
   "cell_type": "markdown",
   "metadata": {},
   "source": [
    "# Embedding with Word2Vec"
   ]
  },
  {
   "cell_type": "markdown",
   "metadata": {},
   "source": [
    "Let's use Word2Vec to embed the words of our sentences. Word2Vec will be able to convert each word to a fixed-size vectorial representation.\n",
    "\n",
    "For instance, we will have:\n",
    "- 🐶 _dog_ $\\rightarrow$ [0.1, -0.3, 0.8]\n",
    "- 🐱 _cat_ $\\rightarrow$ [-1.1, 2.3, 0.7]\n",
    "- 🍏 _apple_ $\\rightarrow$ [3.1, 0.9, -4.7]\n",
    "\n",
    "Here, your embedding space is of size 3.\n",
    "\n",
    "***What is a \"good\" numerical representation of words?***\n",
    "\n",
    "- ***Words with close meanings should be geometrically close in your embedding space!***\n",
    "\n",
    "    - Look at the following example which represents a bi-dimensional embedding space.\n",
    "\n",
    "![Embedding](word_embedding.png)"
   ]
  },
  {
   "cell_type": "markdown",
   "metadata": {},
   "source": [
    "❓ **Question** ❓ Let's run Word2Vec! \n",
    "\n",
    "[📚 **Gensim**](https://radimrehurek.com/gensim/)  is a great Python package that makes the use of the Word2Vec algorithm easy to implement, fast and accurate (which is not an easy task!).\n",
    "\n",
    "1. The following code imports Word2Vec from Gensim. \n",
    "\n",
    "2. The second line learns the embedding representation of the words thanks to the sentences in `X_train`. \n",
    "3. The third line stores the words and their trained embeddings in `wv`."
   ]
  },
  {
   "cell_type": "code",
   "execution_count": 14,
   "metadata": {
    "tags": []
   },
   "outputs": [],
   "source": [
    "from gensim.models import Word2Vec\n",
    "\n",
    "word2vec = Word2Vec(sentences=X_train)\n",
    "wv = word2vec.wv"
   ]
  },
  {
   "cell_type": "markdown",
   "metadata": {},
   "source": [
    "Let's look at the embedded representation of some words.\n",
    "\n",
    "You can use `wv` as a dictionary.\n",
    "For instance, `wv['dog']` will return a representation of `dog` in the embedding space."
   ]
  },
  {
   "cell_type": "markdown",
   "metadata": {},
   "source": [
    "❓ **Question** ❓ Try different words - especially, try non-existing words to see that they don't have any representation (which is perfectly normal as their representation was not learned). "
   ]
  },
  {
   "cell_type": "code",
   "execution_count": 15,
   "metadata": {
    "tags": [
     "challengify"
    ]
   },
   "outputs": [
    {
     "data": {
      "text/plain": [
       "array([-2.08366796e-01,  1.87758103e-01, -9.34619009e-02,  1.95202723e-01,\n",
       "       -1.98869947e-02, -3.89202952e-01,  2.62203477e-02,  5.67088366e-01,\n",
       "       -1.98280394e-01, -2.17946246e-01, -1.46437138e-01, -3.39779884e-01,\n",
       "       -4.45826678e-03,  1.19523004e-01, -4.44210805e-02, -2.28080183e-01,\n",
       "        1.61739305e-01, -3.01454723e-01, -1.65856499e-02, -4.06961650e-01,\n",
       "        1.62342876e-01,  7.72206485e-02,  3.04929227e-01, -9.92648005e-02,\n",
       "        4.10524458e-02,  9.12184734e-03, -2.55638599e-01, -9.96744186e-02,\n",
       "       -1.51754841e-01,  4.63533327e-02,  1.90860450e-01,  1.53818735e-04,\n",
       "        1.67210907e-01, -3.76329780e-01, -8.03921297e-02,  2.44672060e-01,\n",
       "        7.09967911e-02, -1.50895789e-01, -2.06129372e-01, -3.11419159e-01,\n",
       "       -2.23062947e-01, -3.17592472e-01, -2.54699409e-01,  3.07497889e-01,\n",
       "        3.20263386e-01, -3.08806952e-02, -1.81695446e-01, -1.06524855e-01,\n",
       "        1.96052432e-01,  1.52389586e-01,  9.36763361e-02, -1.61186039e-01,\n",
       "       -2.54136413e-01,  1.38661359e-02, -1.79638132e-01,  1.87044874e-01,\n",
       "        1.26452252e-01, -8.28427300e-02, -2.95171738e-01,  1.11846313e-01,\n",
       "        7.46837407e-02,  2.81283744e-02,  2.09284690e-03,  1.40600875e-01,\n",
       "       -2.24325314e-01,  2.17253700e-01, -7.26648048e-02,  1.76236346e-01,\n",
       "       -2.39173263e-01,  3.15670699e-01, -1.61003634e-01,  1.95550278e-01,\n",
       "        3.16054881e-01, -1.82857394e-01,  3.26100111e-01,  1.59238875e-01,\n",
       "       -3.57792742e-04, -8.17630067e-03, -1.26301616e-01, -5.45646064e-02,\n",
       "       -2.34991476e-01, -2.17183083e-01, -2.33294293e-01,  2.64852375e-01,\n",
       "       -1.59281775e-01, -1.62057430e-01, -9.30537004e-03,  2.56255180e-01,\n",
       "        3.33088934e-01,  1.02696277e-01,  2.06525698e-01,  1.99298099e-01,\n",
       "        8.33708793e-02,  1.17897801e-01,  3.91758919e-01,  1.83195084e-01,\n",
       "        2.15653509e-01, -1.47834152e-01, -4.59912680e-02, -3.67423184e-02],\n",
       "      dtype=float32)"
      ]
     },
     "execution_count": 15,
     "metadata": {},
     "output_type": "execute_result"
    }
   ],
   "source": [
    "# YOUR CODE HERE\n",
    "wv[\"dog\"]"
   ]
  },
  {
   "cell_type": "code",
   "execution_count": 16,
   "metadata": {},
   "outputs": [
    {
     "data": {
      "text/plain": [
       "array([-0.15731803,  0.3293582 , -0.29441127,  0.3013499 , -0.08752959,\n",
       "       -0.39023298,  0.1845021 ,  0.84843343, -0.19159067, -0.3108013 ,\n",
       "       -0.0224323 , -0.51191556,  0.1392684 ,  0.19593138, -0.09823272,\n",
       "       -0.26947528,  0.32318255, -0.30432522,  0.04526765, -0.39607635,\n",
       "        0.23492607,  0.01394091,  0.206723  , -0.31337845, -0.03141876,\n",
       "        0.03674737, -0.3303583 , -0.18160369, -0.3223909 , -0.00114467,\n",
       "        0.16251683, -0.01903086,  0.12398297, -0.5549864 , -0.19492516,\n",
       "        0.20271446,  0.14367639, -0.19910634, -0.42531353, -0.19474348,\n",
       "       -0.24348514, -0.35513052, -0.3006355 ,  0.2543732 ,  0.43927005,\n",
       "       -0.13052566, -0.17822784, -0.06292172,  0.51276165,  0.21514793,\n",
       "        0.15212245, -0.19280863, -0.19378786,  0.04751308, -0.33625284,\n",
       "        0.20476468,  0.27352723, -0.11324871, -0.06405751,  0.06123474,\n",
       "        0.29025018, -0.10710628, -0.02645814,  0.3212258 , -0.08729419,\n",
       "        0.16960637, -0.1100309 ,  0.309366  , -0.33827358,  0.35227868,\n",
       "       -0.20426004,  0.14705011,  0.37388298, -0.37585708,  0.3988969 ,\n",
       "        0.16726568, -0.00955006,  0.25814408, -0.15774602, -0.00305041,\n",
       "       -0.42165405, -0.2806146 , -0.24293126,  0.13967378, -0.15444556,\n",
       "       -0.25282544, -0.16348438,  0.41350532,  0.56843555,  0.12504001,\n",
       "        0.1718941 ,  0.34800863,  0.04781758,  0.15766014,  0.57501966,\n",
       "        0.06694552,  0.17387478, -0.00289616,  0.12491129,  0.09825769],\n",
       "      dtype=float32)"
      ]
     },
     "execution_count": 16,
     "metadata": {},
     "output_type": "execute_result"
    }
   ],
   "source": [
    "wv[\"cat\"]"
   ]
  },
  {
   "cell_type": "markdown",
   "metadata": {},
   "source": [
    "❓ **Question** ❓ What is the size of each word representation, and therefore, what is the size of the embedding space?"
   ]
  },
  {
   "cell_type": "code",
   "execution_count": 17,
   "metadata": {
    "tags": [
     "challengify"
    ]
   },
   "outputs": [
    {
     "data": {
      "text/plain": [
       "100"
      ]
     },
     "execution_count": 17,
     "metadata": {},
     "output_type": "execute_result"
    }
   ],
   "source": [
    "# YOUR CODE HERE\n",
    "wv[\"dog\"].size"
   ]
  },
  {
   "cell_type": "markdown",
   "metadata": {},
   "source": [
    "🧐 How do we know whether this embedding make any sense or not? \n",
    "\n",
    "💡 To investigate this question, we will check that words with a close meaning have close representations. \n",
    "\n",
    "👉 Let's use the [**`Word2Vec.wv.most_similar`**](https://radimrehurek.com/gensim/models/keyedvectors.html#gensim.models.keyedvectors.KeyedVectors.most_similar) method that, given an input word, displays the \"closest\" words in the embedding space. If the embedding is well done, then words with similar meanings will have similar representation in the embedding space."
   ]
  },
  {
   "cell_type": "markdown",
   "metadata": {},
   "source": [
    "❓ **Question** ❓ Try out the `most_similar` method on different words. \n",
    "\n",
    "🧑🏿‍🏫 The quality of the closeness will depend on the quality of your embedding, and thus, depend on the number of sentences that you have loaded and from which you create your embedding."
   ]
  },
  {
   "cell_type": "code",
   "execution_count": 27,
   "metadata": {
    "tags": [
     "challengify"
    ]
   },
   "outputs": [
    {
     "data": {
      "text/plain": [
       "[('mel', 0.9843147993087769),\n",
       " ('constantly', 0.983116090297699),\n",
       " ('adam', 0.9827868938446045),\n",
       " ('ms', 0.9822023510932922),\n",
       " ('driver', 0.9815793633460999)]"
      ]
     },
     "execution_count": 27,
     "metadata": {},
     "output_type": "execute_result"
    }
   ],
   "source": [
    "# YOUR CODE HERE\n",
    "wv.most_similar(\"dog\", topn=5)"
   ]
  },
  {
   "cell_type": "code",
   "execution_count": 28,
   "metadata": {},
   "outputs": [
    {
     "data": {
      "text/plain": [
       "[('boss', 0.9888152480125427),\n",
       " ('mate', 0.9857512712478638),\n",
       " ('door', 0.9841458201408386),\n",
       " ('apartment', 0.9839611649513245),\n",
       " ('trial', 0.9825825095176697)]"
      ]
     },
     "execution_count": 28,
     "metadata": {},
     "output_type": "execute_result"
    }
   ],
   "source": [
    "wv.most_similar(\"cat\", topn=5)"
   ]
  },
  {
   "cell_type": "markdown",
   "metadata": {},
   "source": [
    "📚 Similarly to `most_similar` used on words directly, we can use [**`similar_by_vector`**](https://radimrehurek.com/gensim/models/keyedvectors.html#gensim.models.keyedvectors.KeyedVectors.similar_by_vector) on vectors to do the same thing:"
   ]
  },
  {
   "cell_type": "code",
   "execution_count": 29,
   "metadata": {
    "tags": [
     "challengify"
    ]
   },
   "outputs": [
    {
     "data": {
      "text/plain": [
       "[('mel', 0.9843147993087769),\n",
       " ('constantly', 0.983116090297699),\n",
       " ('adam', 0.9827868938446045),\n",
       " ('ms', 0.9822023510932922),\n",
       " ('driver', 0.9815793633460999)]"
      ]
     },
     "execution_count": 29,
     "metadata": {},
     "output_type": "execute_result"
    }
   ],
   "source": [
    "# YOUR CODE HERE\n",
    "\n",
    "wv.similar_by_vector(\"dog\", topn=5)"
   ]
  },
  {
   "cell_type": "markdown",
   "metadata": {},
   "source": [
    "# Arithmetic on words"
   ]
  },
  {
   "cell_type": "markdown",
   "metadata": {},
   "source": [
    "Now, let's perform some mathematical operations on words, i.e. on their vector representations!\n",
    "\n",
    "As any learned word is represented as a vector, you can do basic arithmetic operations, such as:\n",
    "\n",
    "$$W2V(good) - W2V(bad)$$"
   ]
  },
  {
   "cell_type": "code",
   "execution_count": 40,
   "metadata": {},
   "outputs": [
    {
     "data": {
      "text/plain": [
       "{'the': 0,\n",
       " 'a': 1,\n",
       " 'and': 2,\n",
       " 'of': 3,\n",
       " 'to': 4,\n",
       " 'is': 5,\n",
       " 'br': 6,\n",
       " 'in': 7,\n",
       " 'i': 8,\n",
       " 'it': 9,\n",
       " 'this': 10,\n",
       " 'that': 11,\n",
       " 'was': 12,\n",
       " 'as': 13,\n",
       " 'for': 14,\n",
       " 'with': 15,\n",
       " 'but': 16,\n",
       " 'movie': 17,\n",
       " 'film': 18,\n",
       " 'on': 19,\n",
       " 'not': 20,\n",
       " 'you': 21,\n",
       " 'his': 22,\n",
       " 'are': 23,\n",
       " 'have': 24,\n",
       " 'one': 25,\n",
       " 'be': 26,\n",
       " 'he': 27,\n",
       " 'all': 28,\n",
       " 'at': 29,\n",
       " 'by': 30,\n",
       " 'they': 31,\n",
       " 'an': 32,\n",
       " 'so': 33,\n",
       " 'like': 34,\n",
       " 'who': 35,\n",
       " 'from': 36,\n",
       " 'her': 37,\n",
       " 'or': 38,\n",
       " 'just': 39,\n",
       " 'if': 40,\n",
       " 'out': 41,\n",
       " 'about': 42,\n",
       " \"it's\": 43,\n",
       " 'has': 44,\n",
       " 'what': 45,\n",
       " 'some': 46,\n",
       " 'there': 47,\n",
       " 'good': 48,\n",
       " 'more': 49,\n",
       " 'when': 50,\n",
       " 'very': 51,\n",
       " 'no': 52,\n",
       " 'up': 53,\n",
       " 'she': 54,\n",
       " 'my': 55,\n",
       " 'time': 56,\n",
       " 'even': 57,\n",
       " 'which': 58,\n",
       " 'would': 59,\n",
       " 'really': 60,\n",
       " 'only': 61,\n",
       " 'had': 62,\n",
       " 'story': 63,\n",
       " 'me': 64,\n",
       " 'see': 65,\n",
       " 'can': 66,\n",
       " 'their': 67,\n",
       " 'were': 68,\n",
       " 'well': 69,\n",
       " 'than': 70,\n",
       " 'much': 71,\n",
       " 'get': 72,\n",
       " 'do': 73,\n",
       " 'great': 74,\n",
       " 'been': 75,\n",
       " 'we': 76,\n",
       " 'first': 77,\n",
       " 'bad': 78,\n",
       " 'because': 79,\n",
       " 'into': 80,\n",
       " 'other': 81,\n",
       " 'will': 82,\n",
       " 'how': 83,\n",
       " 'also': 84,\n",
       " 'most': 85,\n",
       " 'then': 86,\n",
       " 'too': 87,\n",
       " 'him': 88,\n",
       " 'made': 89,\n",
       " \"don't\": 90,\n",
       " 'people': 91,\n",
       " 'way': 92,\n",
       " 'them': 93,\n",
       " 'make': 94,\n",
       " 'its': 95,\n",
       " 'movies': 96,\n",
       " 'could': 97,\n",
       " 'any': 98,\n",
       " 'films': 99,\n",
       " 'think': 100,\n",
       " 'watch': 101,\n",
       " 'plot': 102,\n",
       " 'after': 103,\n",
       " 'two': 104,\n",
       " 'best': 105,\n",
       " 'many': 106,\n",
       " 'acting': 107,\n",
       " 'life': 108,\n",
       " 'character': 109,\n",
       " 'characters': 110,\n",
       " 'never': 111,\n",
       " 'seen': 112,\n",
       " 'where': 113,\n",
       " 'over': 114,\n",
       " 'being': 115,\n",
       " 'did': 116,\n",
       " 'little': 117,\n",
       " 'these': 118,\n",
       " 'love': 119,\n",
       " 'end': 120,\n",
       " 'man': 121,\n",
       " 'show': 122,\n",
       " 'better': 123,\n",
       " 'off': 124,\n",
       " 'ever': 125,\n",
       " 'know': 126,\n",
       " 'still': 127,\n",
       " 'does': 128,\n",
       " 'say': 129,\n",
       " 'while': 130,\n",
       " 'your': 131,\n",
       " 'scene': 132,\n",
       " 'go': 133,\n",
       " 'why': 134,\n",
       " 'should': 135,\n",
       " 'through': 136,\n",
       " 'such': 137,\n",
       " 'here': 138,\n",
       " 'scenes': 139,\n",
       " 'something': 140,\n",
       " 'real': 141,\n",
       " 'back': 142,\n",
       " 'thing': 143,\n",
       " 'now': 144,\n",
       " \"i'm\": 145,\n",
       " \"doesn't\": 146,\n",
       " 'find': 147,\n",
       " 'before': 148,\n",
       " \"didn't\": 149,\n",
       " 'though': 150,\n",
       " 'makes': 151,\n",
       " 'old': 152,\n",
       " 'again': 153,\n",
       " 'watching': 154,\n",
       " 'funny': 155,\n",
       " 'new': 156,\n",
       " 'those': 157,\n",
       " 'every': 158,\n",
       " 'director': 159,\n",
       " 'actors': 160,\n",
       " 'years': 161,\n",
       " 'going': 162,\n",
       " 'nothing': 163,\n",
       " 'actually': 164,\n",
       " 'look': 165,\n",
       " 'another': 166,\n",
       " 'same': 167,\n",
       " 'work': 168,\n",
       " 'part': 169,\n",
       " '10': 170,\n",
       " 'pretty': 171,\n",
       " 'want': 172,\n",
       " 'quite': 173,\n",
       " 'few': 174,\n",
       " 'young': 175,\n",
       " 'thought': 176,\n",
       " 'down': 177,\n",
       " 'horror': 178,\n",
       " 'bit': 179,\n",
       " 'own': 180,\n",
       " 'cast': 181,\n",
       " \"can't\": 182,\n",
       " 'give': 183,\n",
       " 'around': 184,\n",
       " 'fact': 185,\n",
       " 'lot': 186,\n",
       " \"that's\": 187,\n",
       " 'world': 188,\n",
       " 'enough': 189,\n",
       " 'things': 190,\n",
       " 'point': 191,\n",
       " 'series': 192,\n",
       " 'both': 193,\n",
       " 'may': 194,\n",
       " 'done': 195,\n",
       " 'long': 196,\n",
       " 'got': 197,\n",
       " 'seems': 198,\n",
       " 'however': 199,\n",
       " 'gets': 200,\n",
       " 'take': 201,\n",
       " 'always': 202,\n",
       " 'role': 203,\n",
       " 'us': 204,\n",
       " 'original': 205,\n",
       " 'between': 206,\n",
       " 'big': 207,\n",
       " 'right': 208,\n",
       " 'times': 209,\n",
       " 'music': 210,\n",
       " 'saw': 211,\n",
       " 'without': 212,\n",
       " \"i've\": 213,\n",
       " \"isn't\": 214,\n",
       " 'family': 215,\n",
       " 'far': 216,\n",
       " 'whole': 217,\n",
       " 'might': 218,\n",
       " 'minutes': 219,\n",
       " 'am': 220,\n",
       " 'come': 221,\n",
       " 'least': 222,\n",
       " \"there's\": 223,\n",
       " '2': 224,\n",
       " 'action': 225,\n",
       " 'script': 226,\n",
       " 'must': 227,\n",
       " 'tv': 228,\n",
       " 'since': 229,\n",
       " 'kind': 230,\n",
       " 'away': 231,\n",
       " 'interesting': 232,\n",
       " 'almost': 233,\n",
       " 'performance': 234,\n",
       " 'guy': 235,\n",
       " 'fun': 236,\n",
       " 'rather': 237,\n",
       " 'especially': 238,\n",
       " 'hard': 239,\n",
       " 'anything': 240,\n",
       " 'last': 241,\n",
       " 'actor': 242,\n",
       " 'sure': 243,\n",
       " 'believe': 244,\n",
       " 'three': 245,\n",
       " 'comedy': 246,\n",
       " 'girl': 247,\n",
       " \"he's\": 248,\n",
       " 'ending': 249,\n",
       " 'making': 250,\n",
       " 'looking': 251,\n",
       " 'worst': 252,\n",
       " 'anyone': 253,\n",
       " 'woman': 254,\n",
       " 'screen': 255,\n",
       " 'day': 256,\n",
       " 'trying': 257,\n",
       " 'maybe': 258,\n",
       " 'course': 259,\n",
       " 'found': 260,\n",
       " 'each': 261,\n",
       " 'watched': 262,\n",
       " 'having': 263,\n",
       " 'set': 264,\n",
       " 'probably': 265,\n",
       " 'although': 266,\n",
       " 'yet': 267,\n",
       " 'book': 268,\n",
       " 'comes': 269,\n",
       " 'feel': 270,\n",
       " 'money': 271,\n",
       " 'played': 272,\n",
       " 'everything': 273,\n",
       " \"wasn't\": 274,\n",
       " 'night': 275,\n",
       " 'true': 276,\n",
       " 'goes': 277,\n",
       " 'instead': 278,\n",
       " 'put': 279,\n",
       " 'place': 280,\n",
       " 'reason': 281,\n",
       " 'sense': 282,\n",
       " 'dvd': 283,\n",
       " 'high': 284,\n",
       " 'audience': 285,\n",
       " 'main': 286,\n",
       " 'looks': 287,\n",
       " 'later': 288,\n",
       " '1': 289,\n",
       " 'different': 290,\n",
       " 'job': 291,\n",
       " 'second': 292,\n",
       " 'once': 293,\n",
       " 'shows': 294,\n",
       " 'during': 295,\n",
       " 'american': 296,\n",
       " 'else': 297,\n",
       " 'together': 298,\n",
       " 'worth': 299,\n",
       " 'someone': 300,\n",
       " 'takes': 301,\n",
       " 'fan': 302,\n",
       " 'wife': 303,\n",
       " 'plays': 304,\n",
       " 'our': 305,\n",
       " 'said': 306,\n",
       " 'star': 307,\n",
       " 'play': 308,\n",
       " 'read': 309,\n",
       " 'effects': 310,\n",
       " 'year': 311,\n",
       " 'black': 312,\n",
       " 'special': 313,\n",
       " 'version': 314,\n",
       " 'home': 315,\n",
       " 'half': 316,\n",
       " 'idea': 317,\n",
       " 'boring': 318,\n",
       " 'given': 319,\n",
       " 'seeing': 320,\n",
       " 'help': 321,\n",
       " '3': 322,\n",
       " 'less': 323,\n",
       " 'war': 324,\n",
       " 'beautiful': 325,\n",
       " 'house': 326,\n",
       " 'himself': 327,\n",
       " 'seem': 328,\n",
       " 'death': 329,\n",
       " \"you're\": 330,\n",
       " 'production': 331,\n",
       " 'left': 332,\n",
       " 'mind': 333,\n",
       " 'excellent': 334,\n",
       " 'top': 335,\n",
       " 'john': 336,\n",
       " 'simply': 337,\n",
       " 'camera': 338,\n",
       " 'short': 339,\n",
       " 'either': 340,\n",
       " 'poor': 341,\n",
       " 'shot': 342,\n",
       " 'hollywood': 343,\n",
       " 'stupid': 344,\n",
       " 'couple': 345,\n",
       " 'father': 346,\n",
       " 'used': 347,\n",
       " 'line': 348,\n",
       " 'perfect': 349,\n",
       " 'dead': 350,\n",
       " 'until': 351,\n",
       " 'nice': 352,\n",
       " \"couldn't\": 353,\n",
       " 'kids': 354,\n",
       " 'understand': 355,\n",
       " 'try': 356,\n",
       " 'enjoy': 357,\n",
       " 'completely': 358,\n",
       " 'classic': 359,\n",
       " 'mean': 360,\n",
       " 'along': 361,\n",
       " 'awful': 362,\n",
       " 'wrong': 363,\n",
       " 'perhaps': 364,\n",
       " 'start': 365,\n",
       " 'rest': 366,\n",
       " 'need': 367,\n",
       " 'everyone': 368,\n",
       " 'performances': 369,\n",
       " 'truly': 370,\n",
       " 'men': 371,\n",
       " 'boy': 372,\n",
       " \"i'd\": 373,\n",
       " 'gives': 374,\n",
       " 'small': 375,\n",
       " 'liked': 376,\n",
       " 'finally': 377,\n",
       " 'budget': 378,\n",
       " 'keep': 379,\n",
       " 'name': 380,\n",
       " 'head': 381,\n",
       " 'felt': 382,\n",
       " 'style': 383,\n",
       " 'wonderful': 384,\n",
       " 'face': 385,\n",
       " 'full': 386,\n",
       " '\\x96': 387,\n",
       " 'mr': 388,\n",
       " 'stars': 389,\n",
       " 'early': 390,\n",
       " 'let': 391,\n",
       " 'low': 392,\n",
       " 'friends': 393,\n",
       " 'tell': 394,\n",
       " 'drama': 395,\n",
       " 'hope': 396,\n",
       " 'written': 397,\n",
       " 'school': 398,\n",
       " 'dialogue': 399,\n",
       " 'recommend': 400,\n",
       " 'worse': 401,\n",
       " 'case': 402,\n",
       " 'terrible': 403,\n",
       " 'based': 404,\n",
       " 'sort': 405,\n",
       " 'moments': 406,\n",
       " 'run': 407,\n",
       " 'next': 408,\n",
       " 'playing': 409,\n",
       " 'video': 410,\n",
       " 'supposed': 411,\n",
       " 'often': 412,\n",
       " 'mother': 413,\n",
       " 'getting': 414,\n",
       " 'loved': 415,\n",
       " 'use': 416,\n",
       " 'human': 417,\n",
       " 'yes': 418,\n",
       " 'become': 419,\n",
       " 'came': 420,\n",
       " 'others': 421,\n",
       " 'totally': 422,\n",
       " 'absolutely': 423,\n",
       " 'lines': 424,\n",
       " 'certainly': 425,\n",
       " 'fans': 426,\n",
       " 'called': 427,\n",
       " 'side': 428,\n",
       " 'doing': 429,\n",
       " \"they're\": 430,\n",
       " 'days': 431,\n",
       " 'dark': 432,\n",
       " 'overall': 433,\n",
       " 'example': 434,\n",
       " 'entertaining': 435,\n",
       " 'live': 436,\n",
       " 'art': 437,\n",
       " 'killer': 438,\n",
       " 'definitely': 439,\n",
       " 'went': 440,\n",
       " 'lost': 441,\n",
       " 'tries': 442,\n",
       " 'beginning': 443,\n",
       " 'seemed': 444,\n",
       " 'friend': 445,\n",
       " 'city': 446,\n",
       " 'problem': 447,\n",
       " 'god': 448,\n",
       " 'town': 449,\n",
       " 'picture': 450,\n",
       " 'turn': 451,\n",
       " 'against': 452,\n",
       " 'care': 453,\n",
       " 'wanted': 454,\n",
       " 'already': 455,\n",
       " 'evil': 456,\n",
       " 'entire': 457,\n",
       " 'remember': 458,\n",
       " 'actress': 459,\n",
       " 'sex': 460,\n",
       " 'fine': 461,\n",
       " 'close': 462,\n",
       " 'title': 463,\n",
       " 'women': 464,\n",
       " 'particularly': 465,\n",
       " 'itself': 466,\n",
       " 'act': 467,\n",
       " 'throughout': 468,\n",
       " 'episode': 469,\n",
       " 'myself': 470,\n",
       " 'writing': 471,\n",
       " 'history': 472,\n",
       " 'under': 473,\n",
       " \"won't\": 474,\n",
       " 'white': 475,\n",
       " 'etc': 476,\n",
       " 'sound': 477,\n",
       " 'cinema': 478,\n",
       " \"she's\": 479,\n",
       " 'unfortunately': 480,\n",
       " 'anyway': 481,\n",
       " 'oh': 482,\n",
       " 'hand': 483,\n",
       " 'direction': 484,\n",
       " 'wants': 485,\n",
       " 'piece': 486,\n",
       " 'cannot': 487,\n",
       " 'despite': 488,\n",
       " 'stuff': 489,\n",
       " '5': 490,\n",
       " 'behind': 491,\n",
       " 'daughter': 492,\n",
       " 'themselves': 493,\n",
       " 'children': 494,\n",
       " 'lives': 495,\n",
       " 'humor': 496,\n",
       " 'eyes': 497,\n",
       " 'lead': 498,\n",
       " 'highly': 499,\n",
       " 'late': 500,\n",
       " 'moment': 501,\n",
       " 'able': 502,\n",
       " 'hour': 503,\n",
       " 'person': 504,\n",
       " 'child': 505,\n",
       " 'becomes': 506,\n",
       " 'waste': 507,\n",
       " 'kid': 508,\n",
       " 'kill': 509,\n",
       " 'viewer': 510,\n",
       " 'parts': 511,\n",
       " 'favorite': 512,\n",
       " 'leave': 513,\n",
       " 'thinking': 514,\n",
       " 'decent': 515,\n",
       " 'says': 516,\n",
       " 'soon': 517,\n",
       " 'murder': 518,\n",
       " \"you'll\": 519,\n",
       " 'slow': 520,\n",
       " 'guys': 521,\n",
       " 'past': 522,\n",
       " 'age': 523,\n",
       " 'expect': 524,\n",
       " 'girls': 525,\n",
       " 'type': 526,\n",
       " 'guess': 527,\n",
       " 'voice': 528,\n",
       " '4': 529,\n",
       " 'obvious': 530,\n",
       " 'happen': 531,\n",
       " 'b': 532,\n",
       " 'brilliant': 533,\n",
       " 'starts': 534,\n",
       " 'several': 535,\n",
       " 'matter': 536,\n",
       " 'feeling': 537,\n",
       " 'heart': 538,\n",
       " 'genre': 539,\n",
       " 'final': 540,\n",
       " 'michael': 541,\n",
       " 'ok': 542,\n",
       " 'looked': 543,\n",
       " 'flick': 544,\n",
       " 'except': 545,\n",
       " 'directed': 546,\n",
       " 'involved': 547,\n",
       " 'police': 548,\n",
       " 'chance': 549,\n",
       " 'laugh': 550,\n",
       " 'opinion': 551,\n",
       " 'sometimes': 552,\n",
       " 'blood': 553,\n",
       " 'experience': 554,\n",
       " 'strong': 555,\n",
       " 'number': 556,\n",
       " 'alone': 557,\n",
       " 'power': 558,\n",
       " 'including': 559,\n",
       " 'works': 560,\n",
       " 'gave': 561,\n",
       " 'score': 562,\n",
       " 'robert': 563,\n",
       " 'attempt': 564,\n",
       " 'writer': 565,\n",
       " 'possible': 566,\n",
       " 'annoying': 567,\n",
       " 'told': 568,\n",
       " 'david': 569,\n",
       " 'somewhat': 570,\n",
       " \"aren't\": 571,\n",
       " 'known': 572,\n",
       " 'cut': 573,\n",
       " 'wonder': 574,\n",
       " 'stop': 575,\n",
       " 'enjoyed': 576,\n",
       " 'episodes': 577,\n",
       " \"i'll\": 578,\n",
       " \"film's\": 579,\n",
       " 'took': 580,\n",
       " 'english': 581,\n",
       " 'words': 582,\n",
       " 'amazing': 583,\n",
       " 'wish': 584,\n",
       " 'turns': 585,\n",
       " 'turned': 586,\n",
       " 'happens': 587,\n",
       " 'killed': 588,\n",
       " 'sequel': 589,\n",
       " 'hit': 590,\n",
       " 'whose': 591,\n",
       " 'happened': 592,\n",
       " 'today': 593,\n",
       " 'view': 594,\n",
       " 'lady': 595,\n",
       " 'horrible': 596,\n",
       " 'jane': 597,\n",
       " 'ago': 598,\n",
       " 'simple': 599,\n",
       " 'group': 600,\n",
       " 'james': 601,\n",
       " 'please': 602,\n",
       " 'scary': 603,\n",
       " 'female': 604,\n",
       " 'seriously': 605,\n",
       " 'coming': 606,\n",
       " 'mystery': 607,\n",
       " 'quality': 608,\n",
       " 'save': 609,\n",
       " 'relationship': 610,\n",
       " 'single': 611,\n",
       " 'middle': 612,\n",
       " 'novel': 613,\n",
       " 'roles': 614,\n",
       " 's': 615,\n",
       " 'hell': 616,\n",
       " 'musical': 617,\n",
       " 'across': 618,\n",
       " \"wouldn't\": 619,\n",
       " 'word': 620,\n",
       " 'lack': 621,\n",
       " 'level': 622,\n",
       " 'serious': 623,\n",
       " 'red': 624,\n",
       " 'sad': 625,\n",
       " 'shown': 626,\n",
       " 'eye': 627,\n",
       " 'crap': 628,\n",
       " 'bring': 629,\n",
       " 'usually': 630,\n",
       " 'mostly': 631,\n",
       " 'king': 632,\n",
       " 'herself': 633,\n",
       " 'jokes': 634,\n",
       " 'car': 635,\n",
       " 'body': 636,\n",
       " 'running': 637,\n",
       " 'york': 638,\n",
       " '7': 639,\n",
       " 'happy': 640,\n",
       " 'hours': 641,\n",
       " 'light': 642,\n",
       " 'self': 643,\n",
       " 'gore': 644,\n",
       " 'events': 645,\n",
       " 'obviously': 646,\n",
       " 'british': 647,\n",
       " 'basically': 648,\n",
       " 'important': 649,\n",
       " \"'\": 650,\n",
       " 'room': 651,\n",
       " 'fight': 652,\n",
       " 'son': 653,\n",
       " 'comic': 654,\n",
       " 'documentary': 655,\n",
       " 'interest': 656,\n",
       " 'cool': 657,\n",
       " 'extremely': 658,\n",
       " 'miss': 659,\n",
       " 'husband': 660,\n",
       " 'started': 661,\n",
       " 'local': 662,\n",
       " 'none': 663,\n",
       " 'hilarious': 664,\n",
       " 'shots': 665,\n",
       " 'stories': 666,\n",
       " 'huge': 667,\n",
       " 'due': 668,\n",
       " 'thriller': 669,\n",
       " 'predictable': 670,\n",
       " 'brother': 671,\n",
       " 'elements': 672,\n",
       " 'taken': 673,\n",
       " 'straight': 674,\n",
       " 'richard': 675,\n",
       " 'dull': 676,\n",
       " 'add': 677,\n",
       " 'oscar': 678,\n",
       " 'lame': 679,\n",
       " 'yourself': 680,\n",
       " 'call': 681,\n",
       " 'above': 682,\n",
       " 'ten': 683,\n",
       " 'hero': 684,\n",
       " 'surprised': 685,\n",
       " 'game': 686,\n",
       " 'rating': 687,\n",
       " 'released': 688,\n",
       " 'near': 689,\n",
       " 'clearly': 690,\n",
       " 'sets': 691,\n",
       " 'usual': 692,\n",
       " \"let's\": 693,\n",
       " 'talent': 694,\n",
       " 'country': 695,\n",
       " 'television': 696,\n",
       " 'complete': 697,\n",
       " 'storyline': 698,\n",
       " 'lee': 699,\n",
       " 'romantic': 700,\n",
       " 'entertainment': 701,\n",
       " 'disappointed': 702,\n",
       " 'ridiculous': 703,\n",
       " '9': 704,\n",
       " 'apparently': 705,\n",
       " 'dialog': 706,\n",
       " 'fast': 707,\n",
       " 'similar': 708,\n",
       " 'heard': 709,\n",
       " 'supporting': 710,\n",
       " 'violence': 711,\n",
       " 'falls': 712,\n",
       " 'attention': 713,\n",
       " 'nor': 714,\n",
       " 'whether': 715,\n",
       " 'twist': 716,\n",
       " 'finds': 717,\n",
       " 'editing': 718,\n",
       " 'japanese': 719,\n",
       " 'ones': 720,\n",
       " 'beyond': 721,\n",
       " 'giving': 722,\n",
       " 'tale': 723,\n",
       " 'die': 724,\n",
       " 'minute': 725,\n",
       " 'songs': 726,\n",
       " 'song': 727,\n",
       " \"haven't\": 728,\n",
       " 'possibly': 729,\n",
       " 'moving': 730,\n",
       " 'figure': 731,\n",
       " 'fall': 732,\n",
       " 'taking': 733,\n",
       " 'exactly': 734,\n",
       " 'lots': 735,\n",
       " 'saying': 736,\n",
       " 'reality': 737,\n",
       " 'peter': 738,\n",
       " 'screenplay': 739,\n",
       " 'jack': 740,\n",
       " 'non': 741,\n",
       " 'future': 742,\n",
       " 'strange': 743,\n",
       " 'typical': 744,\n",
       " 'mention': 745,\n",
       " 'cinematography': 746,\n",
       " 'means': 747,\n",
       " 'wait': 748,\n",
       " 'stay': 749,\n",
       " 'comments': 750,\n",
       " 'realistic': 751,\n",
       " 'sit': 752,\n",
       " 'somehow': 753,\n",
       " 'talk': 754,\n",
       " 'message': 755,\n",
       " 'indeed': 756,\n",
       " 'sorry': 757,\n",
       " 'animation': 758,\n",
       " 'named': 759,\n",
       " 'class': 760,\n",
       " 'major': 761,\n",
       " 'modern': 762,\n",
       " 'ends': 763,\n",
       " 'rock': 764,\n",
       " 'imagine': 765,\n",
       " 'living': 766,\n",
       " 'street': 767,\n",
       " 'brought': 768,\n",
       " 'earth': 769,\n",
       " \"who's\": 770,\n",
       " 'kept': 771,\n",
       " 'theme': 772,\n",
       " 'atmosphere': 773,\n",
       " 'third': 774,\n",
       " 'bunch': 775,\n",
       " 'sequence': 776,\n",
       " 'nearly': 777,\n",
       " 'reviews': 778,\n",
       " 'check': 779,\n",
       " 'hate': 780,\n",
       " 'fantastic': 781,\n",
       " 'opening': 782,\n",
       " 'easily': 783,\n",
       " 'doubt': 784,\n",
       " 'christmas': 785,\n",
       " 'imdb': 786,\n",
       " 'expected': 787,\n",
       " 'whom': 788,\n",
       " 'enjoyable': 789,\n",
       " 'baby': 790,\n",
       " 'laughs': 791,\n",
       " 'appears': 792,\n",
       " 'career': 793,\n",
       " 'writers': 794,\n",
       " 'sounds': 795,\n",
       " 'tells': 796,\n",
       " 'cheap': 797,\n",
       " 'nature': 798,\n",
       " 'sadly': 799,\n",
       " 'dream': 800,\n",
       " 'air': 801,\n",
       " 'easy': 802,\n",
       " 're': 803,\n",
       " 'effort': 804,\n",
       " 'within': 805,\n",
       " 'begins': 806,\n",
       " 'talking': 807,\n",
       " 't': 808,\n",
       " 'five': 809,\n",
       " 'ways': 810,\n",
       " 'four': 811,\n",
       " 'emotional': 812,\n",
       " 'knew': 813,\n",
       " 'silly': 814,\n",
       " 'material': 815,\n",
       " 'viewers': 816,\n",
       " 'stand': 817,\n",
       " 'meet': 818,\n",
       " 'comment': 819,\n",
       " 'knows': 820,\n",
       " 'hot': 821,\n",
       " 'suspense': 822,\n",
       " 'points': 823,\n",
       " 'parents': 824,\n",
       " 'upon': 825,\n",
       " 'leads': 826,\n",
       " 'avoid': 827,\n",
       " 'difficult': 828,\n",
       " 'french': 829,\n",
       " 'wasted': 830,\n",
       " 'believable': 831,\n",
       " 'review': 832,\n",
       " 'season': 833,\n",
       " 'period': 834,\n",
       " 'dramatic': 835,\n",
       " 'weird': 836,\n",
       " 'gone': 837,\n",
       " 'wrote': 838,\n",
       " \"what's\": 839,\n",
       " 'leading': 840,\n",
       " 'order': 841,\n",
       " 'release': 842,\n",
       " 'using': 843,\n",
       " 'directing': 844,\n",
       " 'casting': 845,\n",
       " 'portrayed': 846,\n",
       " 'george': 847,\n",
       " 'books': 848,\n",
       " '8': 849,\n",
       " 'hear': 850,\n",
       " 'famous': 851,\n",
       " 'directors': 852,\n",
       " 'problems': 853,\n",
       " 'working': 854,\n",
       " 'feels': 855,\n",
       " 'tried': 856,\n",
       " 'change': 857,\n",
       " 'theater': 858,\n",
       " 'among': 859,\n",
       " 'perfectly': 860,\n",
       " 'needs': 861,\n",
       " 'appear': 862,\n",
       " 'begin': 863,\n",
       " 'married': 864,\n",
       " 'setting': 865,\n",
       " 'hair': 866,\n",
       " 'decided': 867,\n",
       " 'clear': 868,\n",
       " 'sequences': 869,\n",
       " 'deal': 870,\n",
       " 'follow': 871,\n",
       " 'space': 872,\n",
       " 'western': 873,\n",
       " 'interested': 874,\n",
       " 'social': 875,\n",
       " 'odd': 876,\n",
       " 'girlfriend': 877,\n",
       " 'box': 878,\n",
       " 'depth': 879,\n",
       " 'poorly': 880,\n",
       " \"you've\": 881,\n",
       " 'return': 882,\n",
       " 'particular': 883,\n",
       " 'forced': 884,\n",
       " 'premise': 885,\n",
       " 'meant': 886,\n",
       " 'worked': 887,\n",
       " 'de': 888,\n",
       " 'eventually': 889,\n",
       " 'shame': 890,\n",
       " 'otherwise': 891,\n",
       " 'potential': 892,\n",
       " 'meets': 893,\n",
       " 'earlier': 894,\n",
       " 'became': 895,\n",
       " 'previous': 896,\n",
       " 'needed': 897,\n",
       " 'whatever': 898,\n",
       " 'animals': 899,\n",
       " 'stage': 900,\n",
       " 'fantasy': 901,\n",
       " 'sister': 902,\n",
       " 'brings': 903,\n",
       " 'result': 904,\n",
       " 'cute': 905,\n",
       " 'effect': 906,\n",
       " 'bought': 907,\n",
       " 'failed': 908,\n",
       " 'waiting': 909,\n",
       " 'showing': 910,\n",
       " 'gay': 911,\n",
       " 'agree': 912,\n",
       " 'stewart': 913,\n",
       " 'apart': 914,\n",
       " 'creepy': 915,\n",
       " 'mary': 916,\n",
       " 'note': 917,\n",
       " 'move': 918,\n",
       " 'paul': 919,\n",
       " 'general': 920,\n",
       " 'badly': 921,\n",
       " 'average': 922,\n",
       " 'doctor': 923,\n",
       " 'form': 924,\n",
       " 'co': 925,\n",
       " 'fire': 926,\n",
       " 'pathetic': 927,\n",
       " 'ask': 928,\n",
       " \"we're\": 929,\n",
       " 'beauty': 930,\n",
       " 'honestly': 931,\n",
       " 'hands': 932,\n",
       " 'rent': 933,\n",
       " 'dance': 934,\n",
       " 'basic': 935,\n",
       " 'filmed': 936,\n",
       " 'band': 937,\n",
       " 'society': 938,\n",
       " 'hardly': 939,\n",
       " 'frank': 940,\n",
       " 'crime': 941,\n",
       " 'kelly': 942,\n",
       " 'feature': 943,\n",
       " 'features': 944,\n",
       " 'fighting': 945,\n",
       " 'unless': 946,\n",
       " 'fi': 947,\n",
       " 'admit': 948,\n",
       " 'greatest': 949,\n",
       " 'sci': 950,\n",
       " 'bored': 951,\n",
       " 'cop': 952,\n",
       " 'male': 953,\n",
       " 'ben': 954,\n",
       " 'cartoon': 955,\n",
       " 'members': 956,\n",
       " 'science': 957,\n",
       " 'certain': 958,\n",
       " 'romance': 959,\n",
       " 'monster': 960,\n",
       " 'weak': 961,\n",
       " 'free': 962,\n",
       " '20': 963,\n",
       " 'older': 964,\n",
       " 'copy': 965,\n",
       " 'buy': 966,\n",
       " 'expecting': 967,\n",
       " 'situation': 968,\n",
       " 'write': 969,\n",
       " 'surprise': 970,\n",
       " 'cat': 971,\n",
       " 'tom': 972,\n",
       " 'credits': 973,\n",
       " 'joe': 974,\n",
       " 'state': 975,\n",
       " 'footage': 976,\n",
       " 'team': 977,\n",
       " 'trash': 978,\n",
       " 'crazy': 979,\n",
       " 'front': 980,\n",
       " 'soundtrack': 981,\n",
       " 'break': 982,\n",
       " 'cheesy': 983,\n",
       " 'consider': 984,\n",
       " 'actual': 985,\n",
       " 'dumb': 986,\n",
       " 'sexual': 987,\n",
       " '15': 988,\n",
       " 'business': 989,\n",
       " 'forward': 990,\n",
       " 'attempts': 991,\n",
       " 'deserves': 992,\n",
       " 'spoilers': 993,\n",
       " 'decide': 994,\n",
       " 'adaptation': 995,\n",
       " 'recently': 996,\n",
       " 'batman': 997,\n",
       " 'control': 998,\n",
       " 'joke': 999,\n",
       " ...}"
      ]
     },
     "execution_count": 40,
     "metadata": {},
     "output_type": "execute_result"
    }
   ],
   "source": [
    "word2vec.wv.key_to_index"
   ]
  },
  {
   "cell_type": "markdown",
   "metadata": {},
   "source": [
    "❓ **Question** ❓ Do this mathematical operation and print the result"
   ]
  },
  {
   "cell_type": "code",
   "execution_count": 44,
   "metadata": {
    "tags": [
     "challengify"
    ]
   },
   "outputs": [
    {
     "data": {
      "text/plain": [
       "[('who', 0.42709290981292725),\n",
       " ('young', 0.3194664716720581),\n",
       " ('been', 0.25670528411865234),\n",
       " ('by', 0.23368579149246216),\n",
       " ('his', 0.20787926018238068),\n",
       " ('hailed', 0.20463088154792786),\n",
       " ('dahl', 0.2044321596622467),\n",
       " ('visited', 0.20420211553573608),\n",
       " ('woman', 0.19884811341762543),\n",
       " ('an', 0.19751796126365662)]"
      ]
     },
     "execution_count": 44,
     "metadata": {},
     "output_type": "execute_result"
    }
   ],
   "source": [
    "# YOUR CODE HERE\n",
    "v_good = word2vec.wv[\"good\"]\n",
    "v_bad = word2vec.wv[\"bad\"]\n",
    "\n",
    "v_result = v_good - v_bad\n",
    "word2vec.wv.similar_by_vector(v_result)"
   ]
  },
  {
   "cell_type": "markdown",
   "metadata": {},
   "source": [
    "Now, imagine for a second that the following equality holds true:\n",
    "\n",
    "$$W2V(good) - W2V(bad) = W2V(nice) - W2V(stupid)$$\n",
    "\n",
    "which is equivalent to:\n",
    "\n",
    "$$W2V(good) - W2V(bad) + W2V(stupid) = W2V(nice)$$"
   ]
  },
  {
   "cell_type": "markdown",
   "metadata": {},
   "source": [
    "❓ **Question** ❓ Let's, just for fun (as it would be bold of us to think that this equality holds true ...), do the operation $W2V(good) - W2V(bad) + W2V(stupid)$ and store it in a `res` variable (which will be a vector of size 100 that you can print)."
   ]
  },
  {
   "cell_type": "code",
   "execution_count": 45,
   "metadata": {
    "tags": [
     "challengify"
    ]
   },
   "outputs": [
    {
     "data": {
      "text/plain": [
       "[('good', 0.8482003808021545),\n",
       " ('nice', 0.8240365386009216),\n",
       " ('great', 0.8107876181602478),\n",
       " ('decent', 0.7769801616668701),\n",
       " ('always', 0.7653427720069885),\n",
       " ('also', 0.7414466738700867),\n",
       " ('colin', 0.7294730544090271),\n",
       " ('such', 0.7226190567016602),\n",
       " ('potential', 0.7218870520591736),\n",
       " ('groundbreaking', 0.7191649675369263)]"
      ]
     },
     "execution_count": 45,
     "metadata": {},
     "output_type": "execute_result"
    }
   ],
   "source": [
    "# YOUR CODE HERE\n",
    "v_good = word2vec.wv[\"good\"]\n",
    "v_bad = word2vec.wv[\"bad\"]\n",
    "v_stupid = word2vec.wv[\"stupid\"]\n",
    "\n",
    "res = v_good - v_bad + v_stupid\n",
    "word2vec.wv.similar_by_vector(res)"
   ]
  },
  {
   "cell_type": "markdown",
   "metadata": {},
   "source": [
    "We said earlier, that for any vector it is possible to see the closest vectors in the embedding space."
   ]
  },
  {
   "cell_type": "markdown",
   "metadata": {},
   "source": [
    "❓ **Question** ❓ Look at the closest vectors of `res`\n",
    "\n",
    "💡 _Hint_: `similar_by_vector`"
   ]
  },
  {
   "cell_type": "code",
   "execution_count": 52,
   "metadata": {
    "tags": [
     "challengify"
    ]
   },
   "outputs": [
    {
     "data": {
      "text/plain": [
       "[('good', 0.8482003808021545),\n",
       " ('nice', 0.8240365386009216),\n",
       " ('great', 0.8107876181602478),\n",
       " ('decent', 0.7769801616668701),\n",
       " ('always', 0.7653427720069885)]"
      ]
     },
     "execution_count": 52,
     "metadata": {},
     "output_type": "execute_result"
    }
   ],
   "source": [
    "# YOUR CODE HERE\n",
    "wv.similar_by_vector(res, topn=5)"
   ]
  },
  {
   "cell_type": "markdown",
   "metadata": {},
   "source": [
    "Incredible right! You can do arithmetic operations on words!\n",
    "\n",
    "❓ **Question** ❓ You can try on arithmetic such as \n",
    "\n",
    "$$W2V(Boy) - W2V(Girl) = W2V(Man) - W2V(Woman)$$\n",
    "\n",
    "or \n",
    "\n",
    "$$W2V(Queen) - W2V(King) = W2V(actress) - W2V(actor)$$\n",
    "\n",
    "❗ **Remark** ❗ You will probably see that the results are not perfect. But don't forget that you trained your model on a very small corpus."
   ]
  },
  {
   "cell_type": "code",
   "execution_count": 56,
   "metadata": {},
   "outputs": [
    {
     "data": {
      "text/plain": [
       "[('actor', 0.9788129329681396),\n",
       " ('actress', 0.8897715210914612),\n",
       " ('performance', 0.8766772150993347),\n",
       " ('role', 0.8532341718673706),\n",
       " ('character', 0.8475448489189148),\n",
       " ('job', 0.8090875148773193),\n",
       " ('conscience', 0.8008187413215637),\n",
       " ('billed', 0.7932430505752563),\n",
       " ('guy', 0.7883970737457275),\n",
       " ('duke', 0.7803231477737427)]"
      ]
     },
     "execution_count": 56,
     "metadata": {},
     "output_type": "execute_result"
    }
   ],
   "source": [
    "v_queen = wv[\"queen\"]\n",
    "v_king = wv[\"king\"]\n",
    "v_actor = wv[\"actor\"]\n",
    "\n",
    "res = v_queen - v_king + v_actor\n",
    "wv.similar_by_vector(res)"
   ]
  },
  {
   "cell_type": "code",
   "execution_count": 55,
   "metadata": {
    "tags": [
     "challengify"
    ]
   },
   "outputs": [
    {
     "data": {
      "text/plain": [
       "[('boy', 0.9714475870132446),\n",
       " ('woman', 0.9645140171051025),\n",
       " ('child', 0.9485822916030884),\n",
       " ('servant', 0.9464004039764404),\n",
       " ('husband', 0.9457123875617981),\n",
       " ('affair', 0.9450232982635498),\n",
       " ('friend', 0.9424946308135986),\n",
       " ('mother', 0.9419435858726501),\n",
       " ('married', 0.9364405274391174),\n",
       " ('son', 0.9339624643325806)]"
      ]
     },
     "execution_count": 55,
     "metadata": {},
     "output_type": "execute_result"
    }
   ],
   "source": [
    "# YOUR CODE HERE\n",
    "v_boy = wv[\"boy\"]\n",
    "v_girl = wv[\"girl\"]\n",
    "v_woman = wv[\"woman\"]\n",
    "\n",
    "res = v_boy - v_girl + v_woman\n",
    "wv.similar_by_vector(res)"
   ]
  },
  {
   "cell_type": "markdown",
   "metadata": {},
   "source": [
    "<u><i>Some notes about Word2Vec as an internal Neural Network</i></u>:\n",
    "\n",
    "You might wonder where does this magic comes from (at quite a low price, you just ran a line of code on a very small corpus and it was trained within few minutes). The magic comes from the way Word2Vec is trained. The details are quite complex, but you can remember that Word2vec, in `word2vec = Word2Vec(sentences=X_train)`, actually trains a internal neural network (that you don't see).  \n",
    "\n",
    "In a nutshell, this internal neural network predicts a word from the surroundings words in a sentences. Hence, it splits the original sentences, then for each split it chooses some words as inputs $X$ and a word as the output $y$ which it tries to predict, using the embedding space.\n",
    "\n",
    "And as with any neural network, Word2Vec has some hyperparameters. Let's play with some of these. "
   ]
  },
  {
   "cell_type": "markdown",
   "metadata": {},
   "source": [
    "# Word2Vec hyperparameters"
   ]
  },
  {
   "cell_type": "markdown",
   "metadata": {},
   "source": [
    "❓ **Question** ❓ The first important hyperparameter is the `vector_size` argument. It corresponds to the size of the embedding space. Learn a new `word2vec_2` model, still trained on the `X_train`, but with a smaller or higher `vector_size`.\n",
    "\n",
    "Verify on some words that the embedding size is the one you chose."
   ]
  },
  {
   "cell_type": "code",
   "execution_count": 62,
   "metadata": {
    "tags": [
     "challengify"
    ]
   },
   "outputs": [],
   "source": [
    "# YOUR CODE HERE\n",
    "word2vec_2 = Word2Vec(sentences=X_train, vector_size=10)\n",
    "wv = word2vec_2.wv"
   ]
  },
  {
   "cell_type": "code",
   "execution_count": 64,
   "metadata": {},
   "outputs": [
    {
     "data": {
      "text/plain": [
       "10"
      ]
     },
     "execution_count": 64,
     "metadata": {},
     "output_type": "execute_result"
    }
   ],
   "source": [
    "wv[\"life\"].size"
   ]
  },
  {
   "cell_type": "markdown",
   "metadata": {},
   "source": [
    "❓ **Question** ❓ Use the **`Word2Vec.wv.key_to_index`** attribute to display the size of the learned vocabulary. Compare it to the number of different words in `X_train`."
   ]
  },
  {
   "cell_type": "code",
   "execution_count": 67,
   "metadata": {
    "tags": [
     "challengify"
    ]
   },
   "outputs": [
    {
     "name": "stdout",
     "output_type": "stream",
     "text": [
      "8006\n",
      "2500\n"
     ]
    }
   ],
   "source": [
    "# YOUR CODE HERE\n",
    "print(len(wv.key_to_index))\n",
    "print(len(X_train))"
   ]
  },
  {
   "cell_type": "markdown",
   "metadata": {},
   "source": [
    "There is an important difference between the number of words in the train sentences and in the Word2Vec vocabulary, even though it has been trained on the train sentence set. The reasons comes from the second important hyperparameter of Word2Vec:  `min_count`. \n",
    "\n",
    "`min_count` is a integer that tells you how many occurrences a given word should have to be learned in the embedding space. For instance, let's say that the word \"movie\" appears 1000 times in the corpus and \"simba\" only 2 times. If `min_count=3`, the word \"simba\" will be skipped during the training.\n",
    "\n",
    "The intention is to learn a representation of words that are sufficiently present in the corpus to have a robust embedded representation."
   ]
  },
  {
   "cell_type": "markdown",
   "metadata": {},
   "source": [
    "❓ **Question** ❓ Learn a new `word2vec_3` model with a `min_count` higher than 5 (which is the default value) and a `word2vec_4` with a `min_count` smaller than 5, and then, compare the size of the vocabulary for all the different word2vecs that you have trained (you can choose any `vector_size` you want)."
   ]
  },
  {
   "cell_type": "code",
   "execution_count": 69,
   "metadata": {
    "tags": [
     "challengify"
    ]
   },
   "outputs": [
    {
     "data": {
      "text/plain": [
       "8006"
      ]
     },
     "execution_count": 69,
     "metadata": {},
     "output_type": "execute_result"
    }
   ],
   "source": [
    "# YOUR CODE HERE\n",
    "word2vec_3 = Word2Vec(sentences=X_train, vector_size=10, min_count=5)\n",
    "wv = word2vec_3.wv\n",
    "len(wv.key_to_index)"
   ]
  },
  {
   "cell_type": "code",
   "execution_count": 70,
   "metadata": {},
   "outputs": [
    {
     "data": {
      "text/plain": [
       "9584"
      ]
     },
     "execution_count": 70,
     "metadata": {},
     "output_type": "execute_result"
    }
   ],
   "source": [
    "word2vec_4 = Word2Vec(sentences=X_train, vector_size=10, min_count=4)\n",
    "wv = word2vec_4.wv\n",
    "len(wv.key_to_index)"
   ]
  },
  {
   "cell_type": "markdown",
   "metadata": {},
   "source": [
    "Remember that Word2Vec has an internal neural network that is optimized based on some predictions. These predictions actually correspond to predicting a word based on surrounding words. The surroundings words are in a `window` which corresponds to the number of words taken into account. And you can train the Word2Vec with different `window` sizes."
   ]
  },
  {
   "cell_type": "markdown",
   "metadata": {},
   "source": [
    "❓ **Question** ❓ Train a new `word2vec_5` model with a `window` different than previously (default is 5)."
   ]
  },
  {
   "cell_type": "code",
   "execution_count": 71,
   "metadata": {
    "tags": [
     "challengify"
    ]
   },
   "outputs": [],
   "source": [
    "# YOUR CODE HERE\n",
    "word2vec_5 = Word2Vec(sentences=X_train, vector_size=10, min_count=5, window=6)\n",
    "wv = word2vec_5.wv"
   ]
  },
  {
   "cell_type": "markdown",
   "metadata": {},
   "source": [
    "The arguments you have seen (`vector_size`, `min_count` and `window`) are usually the ones that you should start playing with to get a better performance for your model.\n",
    "\n",
    "But you can also look at other arguments in the [**📚 Documentation - gensim.models.word2vec.Text8Corpus**](https://radimrehurek.com/gensim/models/word2vec.html#gensim.models.word2vec.Text8Corpus)"
   ]
  },
  {
   "cell_type": "markdown",
   "metadata": {},
   "source": [
    "# Convert our train and test set to RNN-ready datasets"
   ]
  },
  {
   "cell_type": "markdown",
   "metadata": {},
   "source": [
    "Remember that `Word2Vec` is the first step to the overall process of feeding such a representation into a RNN, as shown here:\n",
    "\n",
    "<img src=\"word2vec_representation.png\" width=\"400px\" />\n",
    "\n",
    "\n",
    "\n",
    "Now, let's work on Step 2 by converting the training and test data into their vector representation to be ready to be fed in RNNs.\n",
    "\n",
    "❓ **Question** ❓ Now, write a function that, given a sentence, returns a matrix that corresponds to the embedding of the full sentence, which means that you have to embed each word one after the other and concatenate the result to output a 2D matrix (make sure that your output is a NumPy array)\n",
    "\n",
    "❗ **Remark** ❗ You will probably notice that some words you are trying to convert throw errors as they are said not to belong to the dictionary:\n",
    "\n",
    "- For the <font color=orange>test</font> set, this is understandable: <font color=orange>some words were not</font> in the <font color=blue>train</font> set and thus, their <font color=orange>embedded representation is unknown</font>\n",
    "- for the <font color=blue>train set</font>, due to `min_count` hyperparameter, not all the words have a vector representation.\n",
    "\n",
    "In any case, just skip the missing words here."
   ]
  },
  {
   "cell_type": "code",
   "execution_count": 80,
   "metadata": {},
   "outputs": [],
   "source": [
    "import numpy as np\n",
    "from tensorflow.keras.preprocessing.text import Tokenizer\n",
    "from tensorflow.keras.preprocessing.sequence import pad_sequences\n",
    "\n",
    "example = ['this', 'movie', 'is', 'the', 'worst', 'action', 'movie', 'ever']\n",
    "example_missing_words = ['this', 'movie', 'is', 'laaaaaaaaaame']\n",
    "\n",
    "def embed_sentence(word2vec, sentence):\n",
    "    embedded_sentence = []\n",
    "    for word in sentence:\n",
    "        if word in word2vec.wv:\n",
    "            embedded_sentence.append(word2vec.wv[word])\n",
    "    \n",
    "    return np.array(embedded_sentence)\n",
    "### Checks\n",
    "embedded_sentence = embed_sentence(word2vec, example)\n",
    "assert(type(embedded_sentence) == np.ndarray)\n",
    "assert(embedded_sentence.shape == (8, 100))\n",
    "\n",
    "embedded_sentence_missing_words = embed_sentence(word2vec, example_missing_words)  \n",
    "assert(type(embedded_sentence_missing_words) == np.ndarray)\n",
    "assert(embedded_sentence_missing_words.shape == (3, 100))"
   ]
  },
  {
   "cell_type": "markdown",
   "metadata": {},
   "source": [
    "❓ **Question** ❓ Write a function that, given a list of sentences (each sentence being a list of words/strings), returns a list of embedded sentences (each sentence is a matrix). Apply this function to the train and test sentences\n",
    "\n",
    "💡 _Hint_: Use the previous function `embed_sentence`"
   ]
  },
  {
   "cell_type": "code",
   "execution_count": 81,
   "metadata": {},
   "outputs": [],
   "source": [
    "def embedding(word2vec, sentences):\n",
    "    embedding = []\n",
    "    for sentence in sentences:\n",
    "        embedded_sentences = embed_sentence(word2vec, sentence)\n",
    "        embedding.append(embedded_sentences)\n",
    "        \n",
    "        return embedding\n",
    "        \n",
    "X_train = embedding(word2vec, X_train)\n",
    "X_test = embedding(word2vec, X_test)"
   ]
  },
  {
   "cell_type": "markdown",
   "metadata": {},
   "source": [
    "❓ **Question** ❓ In order to have ready-to-use data, do not forget to pad your sequences so you have tensors which can be divided into batches (of `batch_size`) during the optimization. Store the padded values in `X_train_pad` and `X_test_pad`. Do not forget the important arguments of the padding ;)"
   ]
  },
  {
   "cell_type": "code",
   "execution_count": 82,
   "metadata": {},
   "outputs": [],
   "source": [
    "### YOUR CODE HERE\n",
    "\n",
    "X_train_pad = pad_sequences(X_train, dtype=\"float\", padding=\"post\")\n",
    "X_test_pad = pad_sequences(X_test, dtype=\"float\", padding=\"post\")\n",
    "\n",
    "assert(len(X_train_pad.shape) == 3)\n",
    "assert(len(X_test_pad.shape) == 3)\n",
    "assert(X_train_pad.shape[2] == 100)\n",
    "assert(X_test_pad.shape[2] == 100)"
   ]
  },
  {
   "cell_type": "markdown",
   "metadata": {},
   "source": [
    "\n",
    "\n",
    "🏁 Congratulations, you are now able to use `Word2Vec` to embed your words :)\n",
    "\n",
    "💾 Don't forget to git add/commit/push your notebook...\n",
    "\n",
    "🚀 ... and move on to the next challenge!\n"
   ]
  }
 ],
 "metadata": {
  "kernelspec": {
   "display_name": "Python 3 (ipykernel)",
   "language": "python",
   "name": "python3"
  },
  "language_info": {
   "codemirror_mode": {
    "name": "ipython",
    "version": 3
   },
   "file_extension": ".py",
   "mimetype": "text/x-python",
   "name": "python",
   "nbconvert_exporter": "python",
   "pygments_lexer": "ipython3",
   "version": "3.10.6"
  },
  "toc": {
   "base_numbering": 1,
   "nav_menu": {},
   "number_sections": true,
   "sideBar": true,
   "skip_h1_title": false,
   "title_cell": "Table of Contents",
   "title_sidebar": "Contents",
   "toc_cell": false,
   "toc_position": {},
   "toc_section_display": true,
   "toc_window_display": false
  },
  "varInspector": {
   "cols": {
    "lenName": 16,
    "lenType": 16,
    "lenVar": 40
   },
   "kernels_config": {
    "python": {
     "delete_cmd_postfix": "",
     "delete_cmd_prefix": "del ",
     "library": "var_list.py",
     "varRefreshCmd": "print(var_dic_list())"
    },
    "r": {
     "delete_cmd_postfix": ") ",
     "delete_cmd_prefix": "rm(",
     "library": "var_list.r",
     "varRefreshCmd": "cat(var_dic_list()) "
    }
   },
   "types_to_exclude": [
    "module",
    "function",
    "builtin_function_or_method",
    "instance",
    "_Feature"
   ],
   "window_display": false
  }
 },
 "nbformat": 4,
 "nbformat_minor": 4
}
